{
  "nbformat": 4,
  "nbformat_minor": 0,
  "metadata": {
    "colab": {
      "provenance": []
    },
    "kernelspec": {
      "name": "python3",
      "display_name": "Python 3"
    },
    "language_info": {
      "name": "python"
    }
  },
  "cells": [
    {
      "cell_type": "markdown",
      "source": [
        "# LIBRARIES"
      ],
      "metadata": {
        "id": "urDvxMTpSvnX"
      }
    },
    {
      "cell_type": "code",
      "execution_count": null,
      "metadata": {
        "id": "BqvX5WeLSBaE"
      },
      "outputs": [],
      "source": [
        "import numpy  as np\n",
        "import pandas as pd\n",
        "import matplotlib.pyplot as plt\n",
        "import seaborn as sns\n",
        "from sklearn.model_selection import train_test_split\n",
        "from sklearn.linear_model import LinearRegression, LogisticRegression\n",
        "from sklearn.tree import DecisionTreeRegressor\n",
        "from sklearn.ensemble import RandomForestRegressor\n",
        "from sklearn.metrics import mean_squared_error, r2_score, accuracy_score, precision_score, recall_score, f1_score\n",
        "from sklearn.preprocessing import StandardScaler"
      ]
    },
    {
      "cell_type": "code",
      "source": [
        "import warnings\n",
        "\n",
        "# Ignore all warnings\n",
        "warnings.filterwarnings(\"ignore\")"
      ],
      "metadata": {
        "id": "Gv3ZM7FK5NuR"
      },
      "execution_count": null,
      "outputs": []
    },
    {
      "cell_type": "markdown",
      "source": [
        "# Data\n"
      ],
      "metadata": {
        "id": "mfFL9lnNXfcq"
      }
    },
    {
      "cell_type": "code",
      "source": [
        "from google.colab import drive\n",
        "drive.mount('/content/drive')\n"
      ],
      "metadata": {
        "id": "bECjavcsXj7p",
        "colab": {
          "base_uri": "https://localhost:8080/"
        },
        "outputId": "cfb5fcdc-4bd5-4ec3-afb0-3f43e274db33"
      },
      "execution_count": null,
      "outputs": [
        {
          "output_type": "stream",
          "name": "stdout",
          "text": [
            "Drive already mounted at /content/drive; to attempt to forcibly remount, call drive.mount(\"/content/drive\", force_remount=True).\n"
          ]
        }
      ]
    },
    {
      "cell_type": "code",
      "source": [
        "df = pd.read_csv('/content/drive/My Drive/infolimpioavanzadoTarget.csv')\n",
        "df.head()"
      ],
      "metadata": {
        "colab": {
          "base_uri": "https://localhost:8080/",
          "height": 359
        },
        "id": "-qrHM1lZZWlr",
        "outputId": "690c3cbe-e580-4238-a090-5ba366aa3153"
      },
      "execution_count": null,
      "outputs": [
        {
          "output_type": "execute_result",
          "data": {
            "text/plain": [
              "         date       open       high        low      close   adjclose  volume  \\\n",
              "0  2022-01-03  17.799999  18.219000  17.500000  17.760000  17.760000  106600   \n",
              "1  2022-01-04  17.700001  18.309999  17.620001  17.660000  17.660000  128700   \n",
              "2  2022-01-05  17.580000  17.799999  16.910000  16.950001  16.950001  103100   \n",
              "3  2022-01-06  16.650000  16.879999  16.139999  16.170000  16.170000  173600   \n",
              "4  2022-01-07  16.219999  16.290001  15.630000  15.710000  15.710000  137800   \n",
              "\n",
              "  ticker  RSIadjclose15  RSIvolume15  ...  high-15  K-15  D-15  \\\n",
              "0   ASLE            NaN          NaN  ...      NaN   NaN   NaN   \n",
              "1   ASLE            NaN          NaN  ...      NaN   NaN   NaN   \n",
              "2   ASLE            NaN          NaN  ...      NaN   NaN   NaN   \n",
              "3   ASLE            NaN          NaN  ...      NaN   NaN   NaN   \n",
              "4   ASLE            NaN          NaN  ...      NaN   NaN   NaN   \n",
              "\n",
              "   stochastic-k-15  stochastic-d-15  stochastic-kd-15  volumenrelativo  \\\n",
              "0              NaN              NaN               NaN         0.919758   \n",
              "1              NaN              NaN               NaN         1.110440   \n",
              "2              NaN              NaN               NaN         0.889560   \n",
              "3              NaN              NaN               NaN         1.497843   \n",
              "4              NaN              NaN               NaN         1.188956   \n",
              "\n",
              "       diff  INCREMENTO  TARGET  \n",
              "0 -1.900001   -9.664295       0  \n",
              "1 -1.379999   -7.247895       0  \n",
              "2 -0.930000   -5.201344       0  \n",
              "3 -0.360000   -2.177856       0  \n",
              "4 -0.120000   -0.758054       0  \n",
              "\n",
              "[5 rows x 1285 columns]"
            ],
            "text/html": [
              "\n",
              "  <div id=\"df-df653b92-9cd3-4b1a-887d-94ffcfa6e427\" class=\"colab-df-container\">\n",
              "    <div>\n",
              "<style scoped>\n",
              "    .dataframe tbody tr th:only-of-type {\n",
              "        vertical-align: middle;\n",
              "    }\n",
              "\n",
              "    .dataframe tbody tr th {\n",
              "        vertical-align: top;\n",
              "    }\n",
              "\n",
              "    .dataframe thead th {\n",
              "        text-align: right;\n",
              "    }\n",
              "</style>\n",
              "<table border=\"1\" class=\"dataframe\">\n",
              "  <thead>\n",
              "    <tr style=\"text-align: right;\">\n",
              "      <th></th>\n",
              "      <th>date</th>\n",
              "      <th>open</th>\n",
              "      <th>high</th>\n",
              "      <th>low</th>\n",
              "      <th>close</th>\n",
              "      <th>adjclose</th>\n",
              "      <th>volume</th>\n",
              "      <th>ticker</th>\n",
              "      <th>RSIadjclose15</th>\n",
              "      <th>RSIvolume15</th>\n",
              "      <th>...</th>\n",
              "      <th>high-15</th>\n",
              "      <th>K-15</th>\n",
              "      <th>D-15</th>\n",
              "      <th>stochastic-k-15</th>\n",
              "      <th>stochastic-d-15</th>\n",
              "      <th>stochastic-kd-15</th>\n",
              "      <th>volumenrelativo</th>\n",
              "      <th>diff</th>\n",
              "      <th>INCREMENTO</th>\n",
              "      <th>TARGET</th>\n",
              "    </tr>\n",
              "  </thead>\n",
              "  <tbody>\n",
              "    <tr>\n",
              "      <th>0</th>\n",
              "      <td>2022-01-03</td>\n",
              "      <td>17.799999</td>\n",
              "      <td>18.219000</td>\n",
              "      <td>17.500000</td>\n",
              "      <td>17.760000</td>\n",
              "      <td>17.760000</td>\n",
              "      <td>106600</td>\n",
              "      <td>ASLE</td>\n",
              "      <td>NaN</td>\n",
              "      <td>NaN</td>\n",
              "      <td>...</td>\n",
              "      <td>NaN</td>\n",
              "      <td>NaN</td>\n",
              "      <td>NaN</td>\n",
              "      <td>NaN</td>\n",
              "      <td>NaN</td>\n",
              "      <td>NaN</td>\n",
              "      <td>0.919758</td>\n",
              "      <td>-1.900001</td>\n",
              "      <td>-9.664295</td>\n",
              "      <td>0</td>\n",
              "    </tr>\n",
              "    <tr>\n",
              "      <th>1</th>\n",
              "      <td>2022-01-04</td>\n",
              "      <td>17.700001</td>\n",
              "      <td>18.309999</td>\n",
              "      <td>17.620001</td>\n",
              "      <td>17.660000</td>\n",
              "      <td>17.660000</td>\n",
              "      <td>128700</td>\n",
              "      <td>ASLE</td>\n",
              "      <td>NaN</td>\n",
              "      <td>NaN</td>\n",
              "      <td>...</td>\n",
              "      <td>NaN</td>\n",
              "      <td>NaN</td>\n",
              "      <td>NaN</td>\n",
              "      <td>NaN</td>\n",
              "      <td>NaN</td>\n",
              "      <td>NaN</td>\n",
              "      <td>1.110440</td>\n",
              "      <td>-1.379999</td>\n",
              "      <td>-7.247895</td>\n",
              "      <td>0</td>\n",
              "    </tr>\n",
              "    <tr>\n",
              "      <th>2</th>\n",
              "      <td>2022-01-05</td>\n",
              "      <td>17.580000</td>\n",
              "      <td>17.799999</td>\n",
              "      <td>16.910000</td>\n",
              "      <td>16.950001</td>\n",
              "      <td>16.950001</td>\n",
              "      <td>103100</td>\n",
              "      <td>ASLE</td>\n",
              "      <td>NaN</td>\n",
              "      <td>NaN</td>\n",
              "      <td>...</td>\n",
              "      <td>NaN</td>\n",
              "      <td>NaN</td>\n",
              "      <td>NaN</td>\n",
              "      <td>NaN</td>\n",
              "      <td>NaN</td>\n",
              "      <td>NaN</td>\n",
              "      <td>0.889560</td>\n",
              "      <td>-0.930000</td>\n",
              "      <td>-5.201344</td>\n",
              "      <td>0</td>\n",
              "    </tr>\n",
              "    <tr>\n",
              "      <th>3</th>\n",
              "      <td>2022-01-06</td>\n",
              "      <td>16.650000</td>\n",
              "      <td>16.879999</td>\n",
              "      <td>16.139999</td>\n",
              "      <td>16.170000</td>\n",
              "      <td>16.170000</td>\n",
              "      <td>173600</td>\n",
              "      <td>ASLE</td>\n",
              "      <td>NaN</td>\n",
              "      <td>NaN</td>\n",
              "      <td>...</td>\n",
              "      <td>NaN</td>\n",
              "      <td>NaN</td>\n",
              "      <td>NaN</td>\n",
              "      <td>NaN</td>\n",
              "      <td>NaN</td>\n",
              "      <td>NaN</td>\n",
              "      <td>1.497843</td>\n",
              "      <td>-0.360000</td>\n",
              "      <td>-2.177856</td>\n",
              "      <td>0</td>\n",
              "    </tr>\n",
              "    <tr>\n",
              "      <th>4</th>\n",
              "      <td>2022-01-07</td>\n",
              "      <td>16.219999</td>\n",
              "      <td>16.290001</td>\n",
              "      <td>15.630000</td>\n",
              "      <td>15.710000</td>\n",
              "      <td>15.710000</td>\n",
              "      <td>137800</td>\n",
              "      <td>ASLE</td>\n",
              "      <td>NaN</td>\n",
              "      <td>NaN</td>\n",
              "      <td>...</td>\n",
              "      <td>NaN</td>\n",
              "      <td>NaN</td>\n",
              "      <td>NaN</td>\n",
              "      <td>NaN</td>\n",
              "      <td>NaN</td>\n",
              "      <td>NaN</td>\n",
              "      <td>1.188956</td>\n",
              "      <td>-0.120000</td>\n",
              "      <td>-0.758054</td>\n",
              "      <td>0</td>\n",
              "    </tr>\n",
              "  </tbody>\n",
              "</table>\n",
              "<p>5 rows × 1285 columns</p>\n",
              "</div>\n",
              "    <div class=\"colab-df-buttons\">\n",
              "\n",
              "  <div class=\"colab-df-container\">\n",
              "    <button class=\"colab-df-convert\" onclick=\"convertToInteractive('df-df653b92-9cd3-4b1a-887d-94ffcfa6e427')\"\n",
              "            title=\"Convert this dataframe to an interactive table.\"\n",
              "            style=\"display:none;\">\n",
              "\n",
              "  <svg xmlns=\"http://www.w3.org/2000/svg\" height=\"24px\" viewBox=\"0 -960 960 960\">\n",
              "    <path d=\"M120-120v-720h720v720H120Zm60-500h600v-160H180v160Zm220 220h160v-160H400v160Zm0 220h160v-160H400v160ZM180-400h160v-160H180v160Zm440 0h160v-160H620v160ZM180-180h160v-160H180v160Zm440 0h160v-160H620v160Z\"/>\n",
              "  </svg>\n",
              "    </button>\n",
              "\n",
              "  <style>\n",
              "    .colab-df-container {\n",
              "      display:flex;\n",
              "      gap: 12px;\n",
              "    }\n",
              "\n",
              "    .colab-df-convert {\n",
              "      background-color: #E8F0FE;\n",
              "      border: none;\n",
              "      border-radius: 50%;\n",
              "      cursor: pointer;\n",
              "      display: none;\n",
              "      fill: #1967D2;\n",
              "      height: 32px;\n",
              "      padding: 0 0 0 0;\n",
              "      width: 32px;\n",
              "    }\n",
              "\n",
              "    .colab-df-convert:hover {\n",
              "      background-color: #E2EBFA;\n",
              "      box-shadow: 0px 1px 2px rgba(60, 64, 67, 0.3), 0px 1px 3px 1px rgba(60, 64, 67, 0.15);\n",
              "      fill: #174EA6;\n",
              "    }\n",
              "\n",
              "    .colab-df-buttons div {\n",
              "      margin-bottom: 4px;\n",
              "    }\n",
              "\n",
              "    [theme=dark] .colab-df-convert {\n",
              "      background-color: #3B4455;\n",
              "      fill: #D2E3FC;\n",
              "    }\n",
              "\n",
              "    [theme=dark] .colab-df-convert:hover {\n",
              "      background-color: #434B5C;\n",
              "      box-shadow: 0px 1px 3px 1px rgba(0, 0, 0, 0.15);\n",
              "      filter: drop-shadow(0px 1px 2px rgba(0, 0, 0, 0.3));\n",
              "      fill: #FFFFFF;\n",
              "    }\n",
              "  </style>\n",
              "\n",
              "    <script>\n",
              "      const buttonEl =\n",
              "        document.querySelector('#df-df653b92-9cd3-4b1a-887d-94ffcfa6e427 button.colab-df-convert');\n",
              "      buttonEl.style.display =\n",
              "        google.colab.kernel.accessAllowed ? 'block' : 'none';\n",
              "\n",
              "      async function convertToInteractive(key) {\n",
              "        const element = document.querySelector('#df-df653b92-9cd3-4b1a-887d-94ffcfa6e427');\n",
              "        const dataTable =\n",
              "          await google.colab.kernel.invokeFunction('convertToInteractive',\n",
              "                                                    [key], {});\n",
              "        if (!dataTable) return;\n",
              "\n",
              "        const docLinkHtml = 'Like what you see? Visit the ' +\n",
              "          '<a target=\"_blank\" href=https://colab.research.google.com/notebooks/data_table.ipynb>data table notebook</a>'\n",
              "          + ' to learn more about interactive tables.';\n",
              "        element.innerHTML = '';\n",
              "        dataTable['output_type'] = 'display_data';\n",
              "        await google.colab.output.renderOutput(dataTable, element);\n",
              "        const docLink = document.createElement('div');\n",
              "        docLink.innerHTML = docLinkHtml;\n",
              "        element.appendChild(docLink);\n",
              "      }\n",
              "    </script>\n",
              "  </div>\n",
              "\n",
              "\n",
              "<div id=\"df-317f79a9-4078-4839-a6ea-a9cb34d44af1\">\n",
              "  <button class=\"colab-df-quickchart\" onclick=\"quickchart('df-317f79a9-4078-4839-a6ea-a9cb34d44af1')\"\n",
              "            title=\"Suggest charts\"\n",
              "            style=\"display:none;\">\n",
              "\n",
              "<svg xmlns=\"http://www.w3.org/2000/svg\" height=\"24px\"viewBox=\"0 0 24 24\"\n",
              "     width=\"24px\">\n",
              "    <g>\n",
              "        <path d=\"M19 3H5c-1.1 0-2 .9-2 2v14c0 1.1.9 2 2 2h14c1.1 0 2-.9 2-2V5c0-1.1-.9-2-2-2zM9 17H7v-7h2v7zm4 0h-2V7h2v10zm4 0h-2v-4h2v4z\"/>\n",
              "    </g>\n",
              "</svg>\n",
              "  </button>\n",
              "\n",
              "<style>\n",
              "  .colab-df-quickchart {\n",
              "      --bg-color: #E8F0FE;\n",
              "      --fill-color: #1967D2;\n",
              "      --hover-bg-color: #E2EBFA;\n",
              "      --hover-fill-color: #174EA6;\n",
              "      --disabled-fill-color: #AAA;\n",
              "      --disabled-bg-color: #DDD;\n",
              "  }\n",
              "\n",
              "  [theme=dark] .colab-df-quickchart {\n",
              "      --bg-color: #3B4455;\n",
              "      --fill-color: #D2E3FC;\n",
              "      --hover-bg-color: #434B5C;\n",
              "      --hover-fill-color: #FFFFFF;\n",
              "      --disabled-bg-color: #3B4455;\n",
              "      --disabled-fill-color: #666;\n",
              "  }\n",
              "\n",
              "  .colab-df-quickchart {\n",
              "    background-color: var(--bg-color);\n",
              "    border: none;\n",
              "    border-radius: 50%;\n",
              "    cursor: pointer;\n",
              "    display: none;\n",
              "    fill: var(--fill-color);\n",
              "    height: 32px;\n",
              "    padding: 0;\n",
              "    width: 32px;\n",
              "  }\n",
              "\n",
              "  .colab-df-quickchart:hover {\n",
              "    background-color: var(--hover-bg-color);\n",
              "    box-shadow: 0 1px 2px rgba(60, 64, 67, 0.3), 0 1px 3px 1px rgba(60, 64, 67, 0.15);\n",
              "    fill: var(--button-hover-fill-color);\n",
              "  }\n",
              "\n",
              "  .colab-df-quickchart-complete:disabled,\n",
              "  .colab-df-quickchart-complete:disabled:hover {\n",
              "    background-color: var(--disabled-bg-color);\n",
              "    fill: var(--disabled-fill-color);\n",
              "    box-shadow: none;\n",
              "  }\n",
              "\n",
              "  .colab-df-spinner {\n",
              "    border: 2px solid var(--fill-color);\n",
              "    border-color: transparent;\n",
              "    border-bottom-color: var(--fill-color);\n",
              "    animation:\n",
              "      spin 1s steps(1) infinite;\n",
              "  }\n",
              "\n",
              "  @keyframes spin {\n",
              "    0% {\n",
              "      border-color: transparent;\n",
              "      border-bottom-color: var(--fill-color);\n",
              "      border-left-color: var(--fill-color);\n",
              "    }\n",
              "    20% {\n",
              "      border-color: transparent;\n",
              "      border-left-color: var(--fill-color);\n",
              "      border-top-color: var(--fill-color);\n",
              "    }\n",
              "    30% {\n",
              "      border-color: transparent;\n",
              "      border-left-color: var(--fill-color);\n",
              "      border-top-color: var(--fill-color);\n",
              "      border-right-color: var(--fill-color);\n",
              "    }\n",
              "    40% {\n",
              "      border-color: transparent;\n",
              "      border-right-color: var(--fill-color);\n",
              "      border-top-color: var(--fill-color);\n",
              "    }\n",
              "    60% {\n",
              "      border-color: transparent;\n",
              "      border-right-color: var(--fill-color);\n",
              "    }\n",
              "    80% {\n",
              "      border-color: transparent;\n",
              "      border-right-color: var(--fill-color);\n",
              "      border-bottom-color: var(--fill-color);\n",
              "    }\n",
              "    90% {\n",
              "      border-color: transparent;\n",
              "      border-bottom-color: var(--fill-color);\n",
              "    }\n",
              "  }\n",
              "</style>\n",
              "\n",
              "  <script>\n",
              "    async function quickchart(key) {\n",
              "      const quickchartButtonEl =\n",
              "        document.querySelector('#' + key + ' button');\n",
              "      quickchartButtonEl.disabled = true;  // To prevent multiple clicks.\n",
              "      quickchartButtonEl.classList.add('colab-df-spinner');\n",
              "      try {\n",
              "        const charts = await google.colab.kernel.invokeFunction(\n",
              "            'suggestCharts', [key], {});\n",
              "      } catch (error) {\n",
              "        console.error('Error during call to suggestCharts:', error);\n",
              "      }\n",
              "      quickchartButtonEl.classList.remove('colab-df-spinner');\n",
              "      quickchartButtonEl.classList.add('colab-df-quickchart-complete');\n",
              "    }\n",
              "    (() => {\n",
              "      let quickchartButtonEl =\n",
              "        document.querySelector('#df-317f79a9-4078-4839-a6ea-a9cb34d44af1 button');\n",
              "      quickchartButtonEl.style.display =\n",
              "        google.colab.kernel.accessAllowed ? 'block' : 'none';\n",
              "    })();\n",
              "  </script>\n",
              "</div>\n",
              "\n",
              "    </div>\n",
              "  </div>\n"
            ],
            "application/vnd.google.colaboratory.intrinsic+json": {
              "type": "dataframe",
              "variable_name": "df"
            }
          },
          "metadata": {},
          "execution_count": 5
        }
      ]
    },
    {
      "cell_type": "markdown",
      "source": [
        "# Handling Missing values"
      ],
      "metadata": {
        "id": "nscxX-UkytFb"
      }
    },
    {
      "cell_type": "code",
      "source": [
        "# Missing values\n",
        "missing_counts = df.isnull().sum()\n",
        "print(\"Number of missing values:\\n\", missing_counts)\n",
        "\n",
        "# Calculate percentage of missing values in each column\n",
        "missing_percentage = (df.isnull().sum() / len(df)) * 100\n",
        "\n",
        "print(\"Percentage of Missing Values:\\n\",missing_percentage)\n"
      ],
      "metadata": {
        "colab": {
          "base_uri": "https://localhost:8080/"
        },
        "id": "Fes026iVGawi",
        "outputId": "4932e37f-18fe-452b-91f4-e238fd3df9eb"
      },
      "execution_count": null,
      "outputs": [
        {
          "output_type": "stream",
          "name": "stdout",
          "text": [
            "Number of missing values:\n",
            " date                  0\n",
            "open                  0\n",
            "high                  0\n",
            "low                   0\n",
            "close                 0\n",
            "                   ... \n",
            "stochastic-kd-15    587\n",
            "volumenrelativo     215\n",
            "diff                155\n",
            "INCREMENTO          155\n",
            "TARGET                0\n",
            "Length: 1285, dtype: int64\n",
            "Percentage of Missing Values:\n",
            " date                0.000000\n",
            "open                0.000000\n",
            "high                0.000000\n",
            "low                 0.000000\n",
            "close               0.000000\n",
            "                      ...   \n",
            "stochastic-kd-15    7.544017\n",
            "volumenrelativo     2.763141\n",
            "diff                1.992032\n",
            "INCREMENTO          1.992032\n",
            "TARGET              0.000000\n",
            "Length: 1285, dtype: float64\n"
          ]
        }
      ]
    },
    {
      "cell_type": "code",
      "source": [
        "# Removing all the rows and columns which have missing values more than the threshold\n",
        "column_threshold = 0.25\n",
        "df = df.loc[:, df.isnull().mean() <= column_threshold]\n",
        "\n",
        "row_threshold = 0.25\n",
        "df = df.loc[df.isnull().mean(axis=1) <= row_threshold]\n",
        "\n",
        "# Checking how much more data needs to be restored\n",
        "df_clone = df.copy()\n",
        "columns_with_missing_values = df_clone.columns[df_clone.isnull().any()]\n",
        "df_clone = df_clone[columns_with_missing_values]\n",
        "missing_percentage = (df_clone.isnull().sum() / len(df)) * 100\n",
        "\n",
        "print(\"Percentage of Missing Values:\\n\",missing_percentage)"
      ],
      "metadata": {
        "colab": {
          "base_uri": "https://localhost:8080/"
        },
        "id": "TzmNO6_lbAKk",
        "outputId": "9d4b6269-1593-4a69-812b-465f13c42b10"
      },
      "execution_count": null,
      "outputs": [
        {
          "output_type": "stream",
          "name": "stdout",
          "text": [
            "Percentage of Missing Values:\n",
            " RSIadjclose25       2.149601\n",
            "RSIvolume25         2.149601\n",
            "RSIadjclose50      12.868555\n",
            "RSIvolume50        12.868555\n",
            "MACDadjclose15      2.149601\n",
            "                     ...    \n",
            "stochastic-k-5      0.014524\n",
            "stochastic-d-5      0.159768\n",
            "stochastic-kd-5     0.159768\n",
            "diff                2.178649\n",
            "INCREMENTO          2.178649\n",
            "Length: 654, dtype: float64\n"
          ]
        }
      ]
    },
    {
      "cell_type": "code",
      "source": [
        "# Applying forward and backward fill method to fill up the rest of the missing values\n",
        "# Forward fill is typically more appropriate for stock data as it preserves the latest known state of the stock until new data becomes available.\n",
        "\n",
        "# Perform forward fill to propagate the last valid observation forward\n",
        "df.fillna(method='ffill', inplace=True)\n",
        "# Perform backward fill to fill remaining NaNs (if any) from the next valid observation\n",
        "df.fillna(method='bfill', inplace=True)\n",
        "\n",
        "# Checking if any missing values left\n",
        "missing_percentage = (df.isnull().sum() / len(df)) * 100\n",
        "\n",
        "print(\"Percentage of Missing Values:\\n\",missing_percentage)"
      ],
      "metadata": {
        "colab": {
          "base_uri": "https://localhost:8080/"
        },
        "id": "JaNXFD-deNb6",
        "outputId": "1c9be024-3cb5-4a12-809f-d48e098d6325"
      },
      "execution_count": null,
      "outputs": [
        {
          "output_type": "stream",
          "name": "stdout",
          "text": [
            "Percentage of Missing Values:\n",
            " date                0.0\n",
            "open                0.0\n",
            "high                0.0\n",
            "low                 0.0\n",
            "close               0.0\n",
            "                   ... \n",
            "stochastic-kd-15    0.0\n",
            "volumenrelativo     0.0\n",
            "diff                0.0\n",
            "INCREMENTO          0.0\n",
            "TARGET              0.0\n",
            "Length: 1271, dtype: float64\n"
          ]
        }
      ]
    },
    {
      "cell_type": "code",
      "source": [
        "zero_columns = df.columns[(df == 0).all()]\n",
        "# Drop columns with all zero values\n",
        "df1 = df.drop(columns=zero_columns)"
      ],
      "metadata": {
        "id": "_4R4ny2mzquH"
      },
      "execution_count": null,
      "outputs": []
    },
    {
      "cell_type": "code",
      "source": [
        "# Data Separation\n",
        "numerical_df = df1.select_dtypes(include=['number'])\n",
        "# Find columns with extreme values\n",
        "extreme_value_threshold = 10000\n",
        "extreme_columns = [col for col in numerical_df.columns if numerical_df[col].abs().max() > extreme_value_threshold]\n",
        "\n",
        "print(\"Number of Columns with extreme values:\", len(extreme_columns))\n",
        "\n"
      ],
      "metadata": {
        "id": "-Z5v3_i8wKNL",
        "colab": {
          "base_uri": "https://localhost:8080/"
        },
        "outputId": "131e0d9f-98c7-438d-b54b-af282d526f37"
      },
      "execution_count": null,
      "outputs": [
        {
          "output_type": "stream",
          "name": "stdout",
          "text": [
            "Number of Columns with extreme values: 801\n"
          ]
        }
      ]
    },
    {
      "cell_type": "code",
      "source": [
        "extreme_value_threshold = 10000\n",
        "\n",
        "# Create a boolean mask for extreme values\n",
        "extreme_values_mask = (numerical_df.abs() > extreme_value_threshold)\n",
        "\n",
        "# Identify rows with at least one extreme value\n",
        "rows_with_extreme_values = extreme_values_mask.any(axis=1)\n",
        "\n",
        "# Count the number of such rows\n",
        "num_rows_with_extreme_values = rows_with_extreme_values.sum()\n",
        "\n",
        "print(\"Number of rows with extreme values:\", num_rows_with_extreme_values)"
      ],
      "metadata": {
        "colab": {
          "base_uri": "https://localhost:8080/"
        },
        "id": "ygd2lnSOrVEu",
        "outputId": "854ff183-a469-4bd4-c007-48e14e73b5f1"
      },
      "execution_count": null,
      "outputs": [
        {
          "output_type": "stream",
          "name": "stdout",
          "text": [
            "Number of rows with extreme values: 6885\n"
          ]
        }
      ]
    },
    {
      "cell_type": "code",
      "source": [
        "numerical_df.drop(columns = extreme_columns,inplace = True)\n",
        "X = numerical_df.drop(['adjclose','TARGET'],axis = 1)\n",
        "y = df[\"TARGET\"]"
      ],
      "metadata": {
        "id": "IDRuDv7BqZR4"
      },
      "execution_count": null,
      "outputs": []
    },
    {
      "cell_type": "markdown",
      "source": [
        "# Regression Models"
      ],
      "metadata": {
        "id": "GeTyxfkiy1Ln"
      }
    },
    {
      "cell_type": "code",
      "source": [
        "# Preprocessing for numerical data: Apply StandardScaler\n",
        "scaler = StandardScaler()\n",
        "X = scaler.fit_transform(X)"
      ],
      "metadata": {
        "id": "nW9HWAvCx5-4"
      },
      "execution_count": null,
      "outputs": []
    },
    {
      "cell_type": "code",
      "source": [
        "# Trian and test split\n",
        "X_train, X_test, y_train, y_test = train_test_split(X, y, test_size=0.2, random_state=42)\n"
      ],
      "metadata": {
        "id": "p9L5iKZig6yN"
      },
      "execution_count": null,
      "outputs": []
    },
    {
      "cell_type": "code",
      "source": [
        "# List of regression models to evaluate\n",
        "models = {\n",
        "    'Linear Regression': LinearRegression(),\n",
        "    'Decision Tree': DecisionTreeRegressor(random_state=42),\n",
        "    'Random Forest': RandomForestRegressor(random_state=42)\n",
        "}\n",
        "# Evaluating Regression Models\n",
        "for name, model in models.items():\n",
        "    # Train the model\n",
        "    model.fit(X_train, y_train)\n",
        "\n",
        "    # Make predictions\n",
        "    y_pred = model.predict(X_test)\n",
        "\n",
        "    # Evaluate the model\n",
        "    mse = mean_squared_error(y_test, y_pred)\n",
        "    r2 = r2_score(y_test, y_pred)\n",
        "\n",
        "    print(f\"{name} Model Performance:\")\n",
        "    print(f\"Mean Squared Error: {mse}\")\n",
        "    print(f\"R-squared: {r2}\\n\")"
      ],
      "metadata": {
        "colab": {
          "base_uri": "https://localhost:8080/"
        },
        "id": "GAuryFZ-yS--",
        "outputId": "60b9d6e4-e313-4a6c-f92e-c5c0eeab95bf"
      },
      "execution_count": null,
      "outputs": [
        {
          "output_type": "stream",
          "name": "stdout",
          "text": [
            "Linear Regression Model Performance:\n",
            "Mean Squared Error: 0.23763685143580113\n",
            "R-squared: -0.6042543417503852\n",
            "\n",
            "Decision Tree Model Performance:\n",
            "Mean Squared Error: 0.034858387799564274\n",
            "R-squared: 0.7646757241732889\n",
            "\n",
            "Random Forest Model Performance:\n",
            "Mean Squared Error: 0.017477559912854032\n",
            "R-squared: 0.8820113496539349\n",
            "\n"
          ]
        }
      ]
    },
    {
      "cell_type": "code",
      "source": [
        "# Logistic Regression Model\n",
        "logistic_model = LogisticRegression(random_state=42, max_iter=1000)\n",
        "\n",
        "# Train the model\n",
        "logistic_model.fit(X_train, y_train)\n",
        "\n",
        "# Make predictions\n",
        "y_pred_logistic = logistic_model.predict(X_test)\n",
        "\n",
        "# Evaluate the logistic regression model\n",
        "accuracy = accuracy_score(y_test, y_pred_logistic)\n",
        "precision = precision_score(y_test, y_pred_logistic)\n",
        "recall = recall_score(y_test, y_pred_logistic)\n",
        "f1 = f1_score(y_test, y_pred_logistic)\n",
        "\n",
        "print(\"Logistic Regression Model Performance:\")\n",
        "print(f\"Accuracy: {accuracy}\")\n",
        "print(f\"Precision: {precision}\")\n",
        "print(f\"Recall: {recall}\")\n",
        "print(f\"F1 Score: {f1}\\n\")"
      ],
      "metadata": {
        "colab": {
          "base_uri": "https://localhost:8080/"
        },
        "id": "AgMxi8nGzAsE",
        "outputId": "b3cb9528-aeb0-4c9e-8a4b-318e8cee45aa"
      },
      "execution_count": null,
      "outputs": [
        {
          "output_type": "stream",
          "name": "stdout",
          "text": [
            "Logistic Regression Model Performance:\n",
            "Accuracy: 0.9070442992011619\n",
            "Precision: 0.8805031446540881\n",
            "Recall: 0.5622489959839357\n",
            "F1 Score: 0.6862745098039216\n",
            "\n"
          ]
        }
      ]
    }
  ]
}